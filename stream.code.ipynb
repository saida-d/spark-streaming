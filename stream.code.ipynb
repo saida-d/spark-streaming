{
 "cells": [
  {
   "cell_type": "markdown",
   "metadata": {
    "application/vnd.databricks.v1+cell": {
     "cellMetadata": {
      "byteLimit": 2048000,
      "rowLimit": 10000
     },
     "inputWidgets": {},
     "nuid": "3c68d1c0-e2fb-4fcf-b3c1-3c3ad4bf7575",
     "showTitle": false,
     "tableResultSettingsMap": {},
     "title": ""
    }
   },
   "source": [
    "## Structured Streaming JSON data over Serverless Cluster"
   ]
  },
  {
   "cell_type": "code",
   "execution_count": 0,
   "metadata": {
    "application/vnd.databricks.v1+cell": {
     "cellMetadata": {
      "byteLimit": 2048000,
      "rowLimit": 10000
     },
     "inputWidgets": {},
     "nuid": "7155f332-8518-4d49-badb-f6a5a8ab1f3c",
     "showTitle": true,
     "tableResultSettingsMap": {},
     "title": "Custom Schema"
    }
   },
   "outputs": [],
   "source": [
    "from pyspark.sql.functions import *\n",
    "from pyspark.sql.types import *\n",
    "\n",
    "order_schema = StructType([\n",
    "    StructField(\"order_id\", StringType(), True),\n",
    "    StructField(\"timestamp\", StringType(), True),   # read first as string, then parse to timestamp\n",
    "    StructField(\"customer\", StructType([\n",
    "        StructField(\"customer_id\", IntegerType(), True),\n",
    "        StructField(\"name\", StringType(), True),\n",
    "        StructField(\"email\", StringType(), True),\n",
    "        # address had \"3 items\" in your sample — adapt names/types as needed\n",
    "        StructField(\"address\", StructType([\n",
    "            StructField(\"city\", StringType(), True),\n",
    "            StructField(\"country\", StringType(), True),\n",
    "            StructField(\"postal_code\", StringType(), True)\n",
    "        ]), True)\n",
    "    ]), True),\n",
    "    StructField(\"items\", ArrayType(\n",
    "        StructType([\n",
    "            StructField(\"item_id\", StringType(), True),\n",
    "            StructField(\"product_name\", StringType(), True),\n",
    "            StructField(\"quantity\", IntegerType(), True),\n",
    "            StructField(\"price\", DoubleType(), True)\n",
    "        ])\n",
    "    ), True),\n",
    "    StructField(\"payment\", StructType([\n",
    "        StructField(\"method\", StringType(), True),\n",
    "        StructField(\"transaction_id\", StringType(), True)\n",
    "    ]), True),\n",
    "    StructField(\"metadata\", ArrayType(\n",
    "        StructType([\n",
    "            StructField(\"key\", StringType(), True),\n",
    "            StructField(\"value\", StringType(), True)\n",
    "        ])\n",
    "    ), True)\n",
    "])"
   ]
  },
  {
   "cell_type": "code",
   "execution_count": 0,
   "metadata": {
    "application/vnd.databricks.v1+cell": {
     "cellMetadata": {
      "byteLimit": 2048000,
      "rowLimit": 10000
     },
     "inputWidgets": {},
     "nuid": "4473bd74-5a52-4a02-8b82-e9309cef0f69",
     "showTitle": true,
     "tableResultSettingsMap": {},
     "title": "Initialize ReadStream"
    }
   },
   "outputs": [],
   "source": [
    "df= spark.readStream.format(\"json\")\\\n",
    ".schema(order_schema)\\\n",
    ".option(\"multiline\", \"true\")\\\n",
    ".option(\"cleanSource\", \"archive\")\\\n",
    ".option(\"sourceArchiveDir\",\"/Volumes/sparkcatalog/store/raw_volume/json_archive\")\\\n",
    ".load(\"/Volumes/sparkcatalog/store/raw_volume/json_source\")"
   ]
  },
  {
   "cell_type": "code",
   "execution_count": 0,
   "metadata": {
    "application/vnd.databricks.v1+cell": {
     "cellMetadata": {
      "byteLimit": 2048000,
      "rowLimit": 10000
     },
     "inputWidgets": {},
     "nuid": "5f690c0f-48a6-4df7-845b-6888dc24e964",
     "showTitle": true,
     "tableResultSettingsMap": {},
     "title": "Transformation Cols"
    }
   },
   "outputs": [],
   "source": [
    "df=df.withColumn(\"items_exp\",explode(\"items\"))\n",
    "\n",
    "df=df.select(\"items_exp.item_id\",\"items_exp.price\",\"items_exp.product_name\",\\\n",
    "    col(\"order_id\"),\\\n",
    "    col(\"payment.transaction_id\"),\\\n",
    "    col(\"timestamp\"),\\\n",
    "    col(\"customer.name\"),\\\n",
    "    col(\"customer.email\"),\\\n",
    "    col(\"customer.address.city\"),\\\n",
    "    col(\"customer.address.country\"),\\\n",
    "    col(\"payment.method\"))\n",
    "    # selecting Item_exploded only"
   ]
  },
  {
   "cell_type": "code",
   "execution_count": 0,
   "metadata": {
    "application/vnd.databricks.v1+cell": {
     "cellMetadata": {
      "byteLimit": 2048000,
      "rowLimit": 10000
     },
     "inputWidgets": {},
     "nuid": "4070a832-7aa9-40ac-b163-6967f18c685d",
     "showTitle": true,
     "tableResultSettingsMap": {},
     "title": "WriteStream"
    }
   },
   "outputs": [
    {
     "output_type": "execute_result",
     "data": {
      "text/plain": [
       "<pyspark.sql.connect.streaming.query.StreamingQuery at 0x7f5031f22870>"
      ]
     },
     "execution_count": 99,
     "metadata": {},
     "output_type": "execute_result"
    }
   ],
   "source": [
    "df.writeStream.format(\"delta\")\\\n",
    "    .outputMode(\"append\")\\\n",
    "    .trigger(once=True)\\\n",
    "    .option('path','/Volumes/sparkcatalog/store/raw_volume/json_new_sink/data')\\\n",
    "    .option('checkPointLocation','/Volumes/sparkcatalog/store/raw_volume/json_new_sink/checkpoint')\\\n",
    "    .start()"
   ]
  },
  {
   "cell_type": "code",
   "execution_count": 0,
   "metadata": {
    "application/vnd.databricks.v1+cell": {
     "cellMetadata": {
      "byteLimit": 2048000,
      "implicitDf": true,
      "rowLimit": 10000
     },
     "inputWidgets": {},
     "nuid": "3399be94-2972-42b1-995b-586ba5cc830e",
     "showTitle": true,
     "tableResultSettingsMap": {},
     "title": "Reading Data from Volumes"
    }
   },
   "outputs": [
    {
     "output_type": "display_data",
     "data": {
      "text/html": [
       "<style scoped>\n",
       "  .table-result-container {\n",
       "    max-height: 300px;\n",
       "    overflow: auto;\n",
       "  }\n",
       "  table, th, td {\n",
       "    border: 1px solid black;\n",
       "    border-collapse: collapse;\n",
       "  }\n",
       "  th, td {\n",
       "    padding: 5px;\n",
       "  }\n",
       "  th {\n",
       "    text-align: left;\n",
       "  }\n",
       "</style><div class='table-result-container'><table class='table-result'><thead style='background-color: white'><tr><th>item_id</th><th>price</th><th>product_name</th><th>order_id</th><th>transaction_id</th><th>timestamp</th><th>name</th><th>email</th><th>city</th><th>country</th><th>method</th></tr></thead><tbody><tr><td>I103</td><td>199.99</td><td>Noise Cancelling Headphones</td><td>ORD1003</td><td>TXN7892</td><td>2025-06-01T11:00:00Z</td><td>David Lee</td><td>david@example.com</td><td>Calgary</td><td>Canada</td><td>Debit Card</td></tr><tr><td>I104</td><td>29.99</td><td>Laptop Stand</td><td>ORD1003</td><td>TXN7892</td><td>2025-06-01T11:00:00Z</td><td>David Lee</td><td>david@example.com</td><td>Calgary</td><td>Canada</td><td>Debit Card</td></tr><tr><td>I105</td><td>10.0</td><td>HDMI Cable</td><td>ORD1003</td><td>TXN7892</td><td>2025-06-01T11:00:00Z</td><td>David Lee</td><td>david@example.com</td><td>Calgary</td><td>Canada</td><td>Debit Card</td></tr><tr><td>I100</td><td>25.99</td><td>Wireless Mouse</td><td>ORD1001</td><td>TXN7890</td><td>2025-06-01T10:15:00Z</td><td>John Doe</td><td>john@example.com</td><td>Toronto</td><td>Canada</td><td>Credit Card</td></tr><tr><td>I101</td><td>15.49</td><td>USB-C Adapter</td><td>ORD1001</td><td>TXN7890</td><td>2025-06-01T10:15:00Z</td><td>John Doe</td><td>john@example.com</td><td>Toronto</td><td>Canada</td><td>Credit Card</td></tr><tr><td>I102</td><td>45.0</td><td>Bluetooth Keyboard</td><td>ORD1002</td><td>TXN7891</td><td>2025-06-01T10:30:00Z</td><td>Alice Smith</td><td>alice@example.com</td><td>Vancouver</td><td>Canada</td><td>PayPal</td></tr></tbody></table></div>"
      ]
     },
     "metadata": {
      "application/vnd.databricks.v1+output": {
       "addedWidgets": {},
       "aggData": [],
       "aggError": "",
       "aggOverflow": false,
       "aggSchema": [],
       "aggSeriesLimitReached": false,
       "aggType": "",
       "arguments": {},
       "columnCustomDisplayInfos": {},
       "data": [
        [
         "I103",
         199.99,
         "Noise Cancelling Headphones",
         "ORD1003",
         "TXN7892",
         "2025-06-01T11:00:00Z",
         "David Lee",
         "david@example.com",
         "Calgary",
         "Canada",
         "Debit Card"
        ],
        [
         "I104",
         29.99,
         "Laptop Stand",
         "ORD1003",
         "TXN7892",
         "2025-06-01T11:00:00Z",
         "David Lee",
         "david@example.com",
         "Calgary",
         "Canada",
         "Debit Card"
        ],
        [
         "I105",
         10.0,
         "HDMI Cable",
         "ORD1003",
         "TXN7892",
         "2025-06-01T11:00:00Z",
         "David Lee",
         "david@example.com",
         "Calgary",
         "Canada",
         "Debit Card"
        ],
        [
         "I100",
         25.99,
         "Wireless Mouse",
         "ORD1001",
         "TXN7890",
         "2025-06-01T10:15:00Z",
         "John Doe",
         "john@example.com",
         "Toronto",
         "Canada",
         "Credit Card"
        ],
        [
         "I101",
         15.49,
         "USB-C Adapter",
         "ORD1001",
         "TXN7890",
         "2025-06-01T10:15:00Z",
         "John Doe",
         "john@example.com",
         "Toronto",
         "Canada",
         "Credit Card"
        ],
        [
         "I102",
         45.0,
         "Bluetooth Keyboard",
         "ORD1002",
         "TXN7891",
         "2025-06-01T10:30:00Z",
         "Alice Smith",
         "alice@example.com",
         "Vancouver",
         "Canada",
         "PayPal"
        ]
       ],
       "datasetInfos": [
        {
         "name": "_sqldf",
         "schema": {
          "fields": [
           {
            "metadata": {},
            "name": "item_id",
            "nullable": true,
            "type": "string"
           },
           {
            "metadata": {},
            "name": "price",
            "nullable": true,
            "type": "double"
           },
           {
            "metadata": {},
            "name": "product_name",
            "nullable": true,
            "type": "string"
           },
           {
            "metadata": {},
            "name": "order_id",
            "nullable": true,
            "type": "string"
           },
           {
            "metadata": {},
            "name": "transaction_id",
            "nullable": true,
            "type": "string"
           },
           {
            "metadata": {},
            "name": "timestamp",
            "nullable": true,
            "type": "string"
           },
           {
            "metadata": {},
            "name": "name",
            "nullable": true,
            "type": "string"
           },
           {
            "metadata": {},
            "name": "email",
            "nullable": true,
            "type": "string"
           },
           {
            "metadata": {},
            "name": "city",
            "nullable": true,
            "type": "string"
           },
           {
            "metadata": {},
            "name": "country",
            "nullable": true,
            "type": "string"
           },
           {
            "metadata": {},
            "name": "method",
            "nullable": true,
            "type": "string"
           }
          ],
          "type": "struct"
         },
         "tableIdentifier": null,
         "typeStr": "pyspark.sql.connect.dataframe.DataFrame"
        }
       ],
       "dbfsResultPath": null,
       "isJsonSchema": true,
       "metadata": {
        "createTempViewForImplicitDf": true,
        "dataframeName": "_sqldf",
        "executionCount": 100
       },
       "overflow": false,
       "plotOptions": {
        "customPlotOptions": {},
        "displayType": "table",
        "pivotAggregation": null,
        "pivotColumns": null,
        "xColumns": null,
        "yColumns": null
       },
       "removedWidgets": [],
       "schema": [
        {
         "metadata": "{}",
         "name": "item_id",
         "type": "\"string\""
        },
        {
         "metadata": "{}",
         "name": "price",
         "type": "\"double\""
        },
        {
         "metadata": "{}",
         "name": "product_name",
         "type": "\"string\""
        },
        {
         "metadata": "{}",
         "name": "order_id",
         "type": "\"string\""
        },
        {
         "metadata": "{}",
         "name": "transaction_id",
         "type": "\"string\""
        },
        {
         "metadata": "{}",
         "name": "timestamp",
         "type": "\"string\""
        },
        {
         "metadata": "{}",
         "name": "name",
         "type": "\"string\""
        },
        {
         "metadata": "{}",
         "name": "email",
         "type": "\"string\""
        },
        {
         "metadata": "{}",
         "name": "city",
         "type": "\"string\""
        },
        {
         "metadata": "{}",
         "name": "country",
         "type": "\"string\""
        },
        {
         "metadata": "{}",
         "name": "method",
         "type": "\"string\""
        }
       ],
       "type": "table"
      }
     },
     "output_type": "display_data"
    }
   ],
   "source": [
    "%sql\n",
    "/* delete from delta.`/Volumes/sparkcatalog/store/raw_volume/json_sink` where order_id='ORD1002';*/\n",
    "select * from delta.`/Volumes/sparkcatalog/store/raw_volume/json_new_sink/data`"
   ]
  }
 ],
 "metadata": {
  "application/vnd.databricks.v1+notebook": {
   "computePreferences": {
    "hardware": {
     "accelerator": null,
     "gpuPoolId": null,
     "memory": null
    }
   },
   "dashboards": [],
   "environmentMetadata": {
    "base_environment": "",
    "environment_version": "3"
   },
   "inputWidgetPreferences": null,
   "language": "python",
   "notebookMetadata": {
    "mostRecentlyExecutedCommandWithImplicitDF": {
     "commandId": 6242296436581595,
     "dataframes": [
      "_sqldf"
     ]
    },
    "pythonIndentUnit": 4
   },
   "notebookName": "JSON_Structure_Streaming",
   "widgets": {}
  },
  "language_info": {
   "name": "python"
  }
 },
 "nbformat": 4,
 "nbformat_minor": 0
}
